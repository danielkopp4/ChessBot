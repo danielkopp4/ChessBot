{
 "cells": [
  {
   "cell_type": "code",
   "execution_count": 68,
   "source": [
    "import numpy as np\n",
    "import tensorflow as tf\n",
    "import chess.pgn\n",
    "import os"
   ],
   "outputs": [],
   "metadata": {}
  },
  {
   "cell_type": "code",
   "execution_count": 69,
   "source": [
    "# Parse Dataset (PGN) to Input Matrix\n",
    "inp_shape = (13, 8, 8) \n",
    "\n",
    "# the first index is determined by piece type\n",
    "king = 0\n",
    "queen = 1\n",
    "rook = 2\n",
    "bishop = 3\n",
    "knight = 4\n",
    "pawn = 5\n",
    "\n",
    "san_translate = {\n",
    "    \"p\": pawn,\n",
    "    \"n\": knight,\n",
    "    \"b\": bishop,\n",
    "    \"r\": rook, \n",
    "    \"q\": queen,\n",
    "    \"k\": king\n",
    "}\n",
    "\n",
    "# structure of matrix:\n",
    "#    - White is on top (0 - 5)\n",
    "#    - Black is mirrored (6 - 11)\n",
    "#    - Next move is 12 (0 - black, 1 - white)\n",
    "\n",
    "def ajust_color(index, is_white):\n",
    "    if is_white:\n",
    "        return index\n",
    "    else:\n",
    "        return inp_shape[0] - index - 1\n",
    "\n",
    "def get_index(san):\n",
    "    is_white = san.isupper()\n",
    "    index = san_translate[san.lower()]\n",
    "    return ajust_color(index, is_white)\n",
    "\n",
    "\n",
    "def fen_to_tensor(fen, move):\n",
    "    ret = np.zeros(inp_shape)\n",
    "    y = 0\n",
    "    for rank in fen.split(\"/\"):\n",
    "        x = 0\n",
    "        for char in rank:\n",
    "            if char.isnumeric():\n",
    "                x += int(char)\n",
    "            else:\n",
    "                ret[get_index(char)][y][x] = 1\n",
    "                x += 1\n",
    "        y += 1\n",
    "    \n",
    "    ret[-1] = move\n",
    "    return tf.constant(ret, dtype=tf.int8)"
   ],
   "outputs": [],
   "metadata": {}
  },
  {
   "cell_type": "code",
   "execution_count": 70,
   "source": [
    "# Returns X, Y\n",
    "def game_to_tensor(game: chess.pgn.Game, beta: float=0.875) -> tuple:\n",
    "    board = game.board()\n",
    "    X = []\n",
    "    Y = []\n",
    "    result = 1 if game.headers[\"Result\"] == \"1-0\" else -1\n",
    "\n",
    "    for move in game.mainline_moves():\n",
    "        board.push(move)\n",
    "        fen = board.fen()\n",
    "        \n",
    "        index = fen.find(\" \")\n",
    "        fen = fen[:index]\n",
    "        turn = 1 if board.turn == chess.WHITE else 0 \n",
    "\n",
    "\n",
    "        board_tensor = fen_to_tensor(fen, turn)\n",
    "        X.append(board_tensor)\n",
    "\n",
    "    moves = len(X)\n",
    "    for i in range(moves):\n",
    "        Y.append(result * beta**(moves - i - 1))\n",
    "\n",
    "    X = tf.stack(X)\n",
    "    Y = tf.constant(np.array(Y), dtype=tf.float32)\n",
    "\n",
    "    return X, Y"
   ],
   "outputs": [],
   "metadata": {}
  },
  {
   "cell_type": "code",
   "execution_count": 71,
   "source": [
    "max_mem_limit = 1E9\n",
    "max_tensors = max_mem_limit // (200 * ((np.prod(np.array(inp_shape)) + 1) + 70))\n",
    "\n",
    "def parallel_shuffle(a, b):\n",
    "    rng_state = np.random.get_state()\n",
    "    np.random.shuffle(a)\n",
    "    np.random.set_state(rng_state)\n",
    "    np.random.shuffle(b)\n",
    "\n",
    "def parse_games(filename, out_dir, formatter=\"data_{}\"):\n",
    "    pgn_file = open(filename)\n",
    "\n",
    "    game = chess.pgn.read_game(pgn_file)\n",
    "    X_set, Y_set = ([], [])\n",
    "    save_index = 0\n",
    "    while game:\n",
    "        if game.headers[\"Result\"] == \"1/2-1/2\":\n",
    "            game = chess.pgn.read_game(pgn_file)\n",
    "            continue\n",
    "\n",
    "        X, Y = game_to_tensor(game)\n",
    "\n",
    "        if len(X.shape) != 4 or X.shape[0] < 4:\n",
    "            game = chess.pgn.read_game(pgn_file)\n",
    "            continue\n",
    "\n",
    "        X_set.append(X)\n",
    "        Y_set.append(Y)\n",
    "\n",
    "        if len(Y_set) > max_tensors:\n",
    "            # save\n",
    "            X_set = tf.concat(X_set, 0)\n",
    "            Y_set = tf.concat(Y_set, 0)\n",
    "            file_loc = os.path.join(out_dir, formatter.format(save_index))\n",
    "            X_np = X_set.numpy()\n",
    "            Y_np = Y_set.numpy()\n",
    "\n",
    "            X_set, Y_set = ([], [])\n",
    "            \n",
    "            parallel_shuffle(X_np, Y_np)\n",
    "            np.savez_compressed(file_loc, X=X_np, Y=Y_np)\n",
    "            print(\"saved chunk {}\".format(save_index))\n",
    "\n",
    "            save_index += 1\n",
    "\n",
    "        game = chess.pgn.read_game(pgn_file)\n",
    "\n",
    "    # save final chunk\n",
    "    X_set = tf.concat(X_set, 0)\n",
    "    Y_set = tf.concat(Y_set, 0)\n",
    "    file_loc = os.path.join(out_dir, formatter.format(save_index))\n",
    "    np.savez_compressed(file_loc, X=X_set.numpy(), Y=Y_set.numpy())\n",
    "    print(\"done...\")\n"
   ],
   "outputs": [],
   "metadata": {}
  },
  {
   "cell_type": "code",
   "execution_count": 72,
   "source": [
    "parse_games(\"../data/raw/small/games.pgn\", \"../data/processed/small\")"
   ],
   "outputs": [
    {
     "output_type": "stream",
     "name": "stdout",
     "text": [
      "saved chunk 0\n",
      "saved chunk 1\n",
      "saved chunk 2\n",
      "saved chunk 3\n",
      "saved chunk 4\n",
      "saved chunk 5\n",
      "saved chunk 6\n",
      "saved chunk 7\n",
      "saved chunk 8\n",
      "saved chunk 9\n",
      "saved chunk 10\n",
      "saved chunk 11\n",
      "saved chunk 12\n",
      "done...\n"
     ]
    }
   ],
   "metadata": {}
  },
  {
   "cell_type": "code",
   "execution_count": 73,
   "source": [
    "max_tensors"
   ],
   "outputs": [
    {
     "output_type": "execute_result",
     "data": {
      "text/plain": [
       "5537.0"
      ]
     },
     "metadata": {},
     "execution_count": 73
    }
   ],
   "metadata": {}
  }
 ],
 "metadata": {
  "kernelspec": {
   "name": "python3",
   "display_name": "Python 3.7.7 64-bit ('chess_env': venv)"
  },
  "language_info": {
   "name": "python",
   "version": "3.7.7",
   "mimetype": "text/x-python",
   "codemirror_mode": {
    "name": "ipython",
    "version": 3
   },
   "pygments_lexer": "ipython3",
   "nbconvert_exporter": "python",
   "file_extension": ".py"
  },
  "interpreter": {
   "hash": "387a68bc965c4419ccbce8d3ae7dd691eb040e8224f96e31b4ec2c1e7292bf6d"
  }
 },
 "nbformat": 4,
 "nbformat_minor": 2
}